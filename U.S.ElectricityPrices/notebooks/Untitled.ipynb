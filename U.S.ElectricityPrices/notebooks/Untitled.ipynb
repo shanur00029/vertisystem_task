{
 "cells": [
  {
   "cell_type": "code",
   "execution_count": 10,
   "id": "216ddcb6",
   "metadata": {},
   "outputs": [
    {
     "name": "stdout",
     "output_type": "stream",
     "text": [
      "Best number of estimators: 100\n",
      "Mean Squared Error (MSE): 0.0837583048163503\n"
     ]
    }
   ],
   "source": [
    "import pandas as pd\n",
    "import numpy as np\n",
    "import matplotlib.pyplot as plt\n",
    "import seaborn as sns\n",
    "from sklearn.preprocessing import LabelEncoder \n",
    "from sklearn.model_selection import train_test_split\n",
    "from sklearn.ensemble import RandomForestRegressor\n",
    "from sklearn.metrics import mean_squared_error\n",
    "from sklearn.model_selection import GridSearchCV, KFold\n",
    "import pickle\n",
    "\n",
    "data = pd.read_csv('data/clean_data.csv') \n",
    "label_encoder = LabelEncoder()\n",
    "data['sectorName'] = label_encoder.fit_transform(data['sectorName'])\n",
    "data['stateDescription']= label_encoder.fit_transform(data['stateDescription'])\n",
    "data.drop(['customers','revenue','sales'],axis=1,inplace= True)\n",
    "filenamepre = r'C:\\Users\\shanu\\Desktop\\vertisystem\\U.S.ElectricityPrices\\artifacts\\preprocessor.pkl'\n",
    "pickle.dump(data, open(filenamepre, 'wb'))   \n",
    "X = data.drop(['price'],axis=1)\n",
    "y=data['price']\n",
    "X_train, X_test, y_train, y_test = train_test_split(X, y, test_size=0.2, random_state=42)\n",
    "param_grid = {\n",
    "    'n_estimators': [50, 100, 150, 200, 250]  # Adjust this range as needed\n",
    "}\n",
    "rf = RandomForestRegressor(random_state=42)\n",
    "cv = KFold(n_splits=5, shuffle=True, random_state=42)  # 5-fold cross-validation\n",
    "grid_search = GridSearchCV(estimator=rf, param_grid=param_grid, cv=cv, scoring='neg_mean_squared_error', n_jobs=-1)\n",
    "grid_search.fit(X, y)\n",
    "\n",
    "best_n_estimators = grid_search.best_params_['n_estimators']\n",
    "\n",
    "best_rf = RandomForestRegressor(n_estimators=100, random_state=42)\n",
    "best_rf.fit(X, y)\n",
    "filename = r'C:\\Users\\shanu\\Desktop\\vertisystem\\U.S.ElectricityPrices\\artifacts\\model.pkl'\n",
    "pickle.dump(best_rf, open(filename, 'wb'))                     \n",
    "y_pred = best_rf.predict(X)\n",
    "\n",
    "mse = mean_squared_error(y, y_pred)\n",
    "print(\"Best number of estimators:\", best_n_estimators)\n",
    "print(\"Mean Squared Error (MSE):\", mse)"
   ]
  },
  {
   "cell_type": "code",
   "execution_count": 7,
   "id": "aae33ddf",
   "metadata": {},
   "outputs": [
    {
     "data": {
      "text/plain": [
       "100"
      ]
     },
     "execution_count": 7,
     "metadata": {},
     "output_type": "execute_result"
    }
   ],
   "source": [
    "best_n_estimators"
   ]
  },
  {
   "cell_type": "code",
   "execution_count": null,
   "id": "0239449b",
   "metadata": {},
   "outputs": [],
   "source": []
  }
 ],
 "metadata": {
  "kernelspec": {
   "display_name": "Python 3",
   "language": "python",
   "name": "python3"
  },
  "language_info": {
   "codemirror_mode": {
    "name": "ipython",
    "version": 3
   },
   "file_extension": ".py",
   "mimetype": "text/x-python",
   "name": "python",
   "nbconvert_exporter": "python",
   "pygments_lexer": "ipython3",
   "version": "3.8.8"
  }
 },
 "nbformat": 4,
 "nbformat_minor": 5
}
